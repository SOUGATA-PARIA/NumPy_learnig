{
  "nbformat": 4,
  "nbformat_minor": 0,
  "metadata": {
    "colab": {
      "provenance": []
    },
    "kernelspec": {
      "name": "python3",
      "display_name": "Python 3"
    },
    "language_info": {
      "name": "python"
    }
  },
  "cells": [
    {
      "cell_type": "markdown",
      "source": [
        "# NumPy Basics"
      ],
      "metadata": {
        "id": "Kqbv4Tp6fZiD"
      }
    },
    {
      "cell_type": "code",
      "source": [
        "# importing the Numpy as a python code\n",
        "import numpy as np"
      ],
      "metadata": {
        "id": "Rw3_mN6SfZqX"
      },
      "execution_count": null,
      "outputs": []
    },
    {
      "cell_type": "code",
      "source": [
        "# numpy code look like bellow described\n",
        "a = np.array([[1, 2, 3], [4, 5, 6]])\n",
        "# lets print the array\n",
        "print(a)\n",
        "# lets see the sphape of the array i.e the number of rows and columns\n",
        "print(f\"The shape of the array is {a.shape}\")"
      ],
      "metadata": {
        "colab": {
          "base_uri": "https://localhost:8080/"
        },
        "id": "b3Wmy4oiiPHL",
        "outputId": "319471e1-dbb4-479b-ff84-0a66c8c4154a"
      },
      "execution_count": null,
      "outputs": [
        {
          "output_type": "stream",
          "name": "stdout",
          "text": [
            "[[1 2 3]\n",
            " [4 5 6]]\n",
            "The shape of the array is (2, 3)\n"
          ]
        }
      ]
    },
    {
      "cell_type": "markdown",
      "source": [
        "# Limitations of Numpy Array"
      ],
      "metadata": {
        "id": "JT-_nTZIlFOt"
      }
    },
    {
      "cell_type": "code",
      "source": [
        "# we can make any dimensional array using numpy array. It has some limitations. lets see them...\n",
        "# 1) All elements of the array must be the of same data type.\n",
        "# 2) Once created, the total size of the array can't be changed.\n",
        "# 3) The shape of the array must be rectangular, not jagged."
      ],
      "metadata": {
        "id": "uR6gDLixlJYH"
      },
      "execution_count": null,
      "outputs": []
    },
    {
      "cell_type": "markdown",
      "source": [
        "# Array fundamentals"
      ],
      "metadata": {
        "id": "vo4jiozNmG2E"
      }
    },
    {
      "cell_type": "code",
      "source": [
        "# One way to initialize array is just like Python list\n",
        "\n",
        "b = np.array([1, 2, 3, 4, 5, 6])\n",
        "b"
      ],
      "metadata": {
        "id": "mIhkdW6Ui6Mj",
        "colab": {
          "base_uri": "https://localhost:8080/"
        },
        "outputId": "bfbb5713-28ed-44cb-9288-c4d0b5831b12"
      },
      "execution_count": null,
      "outputs": [
        {
          "output_type": "execute_result",
          "data": {
            "text/plain": [
              "array([1, 2, 3, 4, 5, 6])"
            ]
          },
          "metadata": {},
          "execution_count": 5
        }
      ]
    },
    {
      "cell_type": "markdown",
      "source": [
        "Accessing the array element"
      ],
      "metadata": {
        "id": "44fuVRyKm0BB"
      }
    },
    {
      "cell_type": "code",
      "source": [
        "# The array elements can be accessed by using the array index\n",
        "print(b[0])"
      ],
      "metadata": {
        "colab": {
          "base_uri": "https://localhost:8080/"
        },
        "id": "Hxm_6josmL4n",
        "outputId": "35e525d1-6fb3-4b5f-e332-07e3cfdf6207"
      },
      "execution_count": null,
      "outputs": [
        {
          "output_type": "stream",
          "name": "stdout",
          "text": [
            "1\n"
          ]
        }
      ]
    },
    {
      "cell_type": "markdown",
      "source": [
        "Like the original list, the numpy array is mutable"
      ],
      "metadata": {
        "id": "LI9fTKx_oEs_"
      }
    },
    {
      "cell_type": "code",
      "source": [
        "print(b)\n",
        "b[0] = 10\n",
        "print(b)"
      ],
      "metadata": {
        "colab": {
          "base_uri": "https://localhost:8080/"
        },
        "id": "K8WCyt-gm3Fr",
        "outputId": "95bdf333-c7b9-4cab-fa52-e9860044c89a"
      },
      "execution_count": null,
      "outputs": [
        {
          "output_type": "stream",
          "name": "stdout",
          "text": [
            "[1 2 3 4 5 6]\n",
            "[10  2  3  4  5  6]\n"
          ]
        }
      ]
    },
    {
      "cell_type": "markdown",
      "source": [
        "# Array slicing"
      ],
      "metadata": {
        "id": "Pm08YQpzsYrv"
      }
    },
    {
      "cell_type": "code",
      "source": [
        "# when we slice an array we get the view of the orginal array\n",
        "# where as if we slice the list of python we a new object is made and it refers to the new object"
      ],
      "metadata": {
        "id": "QbjAgXSXoJYH"
      },
      "execution_count": null,
      "outputs": []
    },
    {
      "cell_type": "code",
      "source": [
        "print(b)"
      ],
      "metadata": {
        "colab": {
          "base_uri": "https://localhost:8080/"
        },
        "id": "JeiP-jFcsbp_",
        "outputId": "cdb235e6-bca2-4309-97bf-9228905d233c"
      },
      "execution_count": null,
      "outputs": [
        {
          "output_type": "stream",
          "name": "stdout",
          "text": [
            "[10  2  3  4  5  6]\n"
          ]
        }
      ]
    },
    {
      "cell_type": "code",
      "source": [
        "b[:4]"
      ],
      "metadata": {
        "colab": {
          "base_uri": "https://localhost:8080/"
        },
        "id": "HBmCUAu_s6xV",
        "outputId": "1bff46d6-2e25-4de2-f4c7-32ef88da4aff"
      },
      "execution_count": null,
      "outputs": [
        {
          "output_type": "execute_result",
          "data": {
            "text/plain": [
              "array([10,  2,  3,  4])"
            ]
          },
          "metadata": {},
          "execution_count": 10
        }
      ]
    },
    {
      "cell_type": "code",
      "source": [
        "original_list = [1, 2, 3, 4, 5, 6, 7, 8, 9]\n",
        "sliced_list = original_list[2:-2]\n",
        "# you can write this like\n",
        "# slice_list = original_list[2:7]\n",
        "print(\"The original list is : \",original_list )\n",
        "print(\"The sliced list is : \",sliced_list)"
      ],
      "metadata": {
        "colab": {
          "base_uri": "https://localhost:8080/"
        },
        "id": "w7ZFJhvStBEZ",
        "outputId": "850bd5a4-5f89-4a13-9f15-02e998e78436"
      },
      "execution_count": null,
      "outputs": [
        {
          "output_type": "stream",
          "name": "stdout",
          "text": [
            "The original list is :  [1, 2, 3, 4, 5, 6, 7, 8, 9]\n",
            "The sliced list is :  [3, 4, 5, 6, 7]\n"
          ]
        }
      ]
    },
    {
      "cell_type": "code",
      "source": [
        "sliced_list[1] = 100\n",
        "print(\"The original list is : \", original_list)\n",
        "print(\"The sliced list is : \", sliced_list)"
      ],
      "metadata": {
        "colab": {
          "base_uri": "https://localhost:8080/"
        },
        "id": "hsbzpKUltl1-",
        "outputId": "5b5ac784-3026-4bff-d666-28d26d738608"
      },
      "execution_count": null,
      "outputs": [
        {
          "output_type": "stream",
          "name": "stdout",
          "text": [
            "The original list is :  [1, 2, 3, 4, 5, 6, 7, 8, 9]\n",
            "The sliced list is :  [3, 100, 5, 6, 7]\n"
          ]
        }
      ]
    },
    {
      "cell_type": "code",
      "source": [
        "# As there is no impact on the original list while changing the sliced_list.\n",
        "# Therefore we can say that a new object is was made."
      ],
      "metadata": {
        "id": "lNu25K3WuuR9"
      },
      "execution_count": null,
      "outputs": []
    },
    {
      "cell_type": "code",
      "source": [
        "original_array = np.array([1, 2, 3, 4, 5])\n",
        "new_array = original_array[1:-1]\n",
        "print(\"The original array is : \",original_array)\n",
        "print(\"The sliced array is : \", new_array)"
      ],
      "metadata": {
        "colab": {
          "base_uri": "https://localhost:8080/"
        },
        "id": "edFOr18YvAlD",
        "outputId": "61b73473-15fb-4b1e-d597-ae7c135e2486"
      },
      "execution_count": null,
      "outputs": [
        {
          "output_type": "stream",
          "name": "stdout",
          "text": [
            "The original array is :  [1 2 3 4 5]\n",
            "The sliced array is :  [2 3 4]\n"
          ]
        }
      ]
    },
    {
      "cell_type": "code",
      "source": [
        "new_array[0] = 10\n",
        "print(\"The original array is : \", original_array)\n",
        "print(\"The sliced array is : \", new_array)"
      ],
      "metadata": {
        "colab": {
          "base_uri": "https://localhost:8080/"
        },
        "id": "rQwuFtsrveAH",
        "outputId": "002f71f8-abbf-44f7-d20c-4bc4ece7236b"
      },
      "execution_count": null,
      "outputs": [
        {
          "output_type": "stream",
          "name": "stdout",
          "text": [
            "The original array is :  [ 1 10  3  4  5]\n",
            "The sliced array is :  [10  3  4]\n"
          ]
        }
      ]
    },
    {
      "cell_type": "code",
      "source": [
        "# As we can see that on changing the sliced array element there is the change in the original array\n",
        "# Therefore we can say that on slicing the array, we just get a view of the original array not a new array is made."
      ],
      "metadata": {
        "id": "H20ccYs_waLs"
      },
      "execution_count": null,
      "outputs": []
    },
    {
      "cell_type": "markdown",
      "source": [
        "# Multi dimensional array"
      ],
      "metadata": {
        "id": "aA_9wPbi4bER"
      }
    },
    {
      "cell_type": "code",
      "source": [
        "#Two or more dimensional array can be initialized using python nested sequence\n",
        "\n",
        "c = np.array([[1, 2, 3],[4, 5, 6], [7, 8, 9]])\n",
        "c"
      ],
      "metadata": {
        "id": "9EIxd9Tnw3pi",
        "colab": {
          "base_uri": "https://localhost:8080/"
        },
        "outputId": "068dc42a-db77-4e98-9e05-2b444884a105"
      },
      "execution_count": null,
      "outputs": [
        {
          "output_type": "execute_result",
          "data": {
            "text/plain": [
              "array([[1, 2, 3],\n",
              "       [4, 5, 6],\n",
              "       [7, 8, 9]])"
            ]
          },
          "metadata": {},
          "execution_count": 17
        }
      ]
    },
    {
      "cell_type": "code",
      "source": [
        "# sometimes dimension of an array is referred to as \"axis\". This is for avoiding the confusion\n",
        "# between the array dimension and the dimension of the data represented by the array."
      ],
      "metadata": {
        "id": "u6_uwo-w4juE"
      },
      "execution_count": null,
      "outputs": []
    },
    {
      "cell_type": "markdown",
      "source": [
        "# **Accessing the array elements from a multidimensional array**"
      ],
      "metadata": {
        "id": "qJNUYlJl6jEn"
      }
    },
    {
      "cell_type": "code",
      "source": [
        "c[1,2]"
      ],
      "metadata": {
        "colab": {
          "base_uri": "https://localhost:8080/"
        },
        "id": "XCuk-jKy59YX",
        "outputId": "c2bf95b4-a735-45d8-c6bd-e6030f0c5600"
      },
      "execution_count": null,
      "outputs": [
        {
          "output_type": "execute_result",
          "data": {
            "text/plain": [
              "6"
            ]
          },
          "metadata": {},
          "execution_count": 19
        }
      ]
    },
    {
      "cell_type": "markdown",
      "source": [
        "# Some standard definations\n",
        "1.   **Sclar** - zero dimensional array.\n",
        "2.   **vector**- one dimensional array.\n",
        "3.   **matrix** - two dimensional array.\n",
        "4.   **tensor** - N dimensional array.(N>2)\n",
        "\n",
        "\n",
        "\n",
        "\n",
        "\n",
        "\n",
        "\n"
      ],
      "metadata": {
        "id": "8vdu7QRa8sYh"
      }
    },
    {
      "cell_type": "markdown",
      "source": [
        "# Array Attributes\n",
        "\n",
        "In this section we are going to discuss about `ndim`, `shape`, `size`, and `dtype`."
      ],
      "metadata": {
        "id": "mg5Jo6kQ_SNw"
      }
    },
    {
      "cell_type": "code",
      "source": [
        "# The number of dimension of the array is contained in the ndim attribute.\n",
        "print(\"The dimension of the array a is : \", a.ndim)\n",
        "print(\"The dimension of the array b is : \", b.ndim)"
      ],
      "metadata": {
        "colab": {
          "base_uri": "https://localhost:8080/"
        },
        "id": "lFUpeWnGAbnh",
        "outputId": "9c4a71bf-dd60-4d2c-9dc1-81668c573954"
      },
      "execution_count": null,
      "outputs": [
        {
          "output_type": "stream",
          "name": "stdout",
          "text": [
            "The dimension of the array a is :  2\n",
            "The dimension of the array b is :  1\n"
          ]
        }
      ]
    },
    {
      "cell_type": "code",
      "source": [
        "# The shape of an array is non-negative tuple which represents the number of elements in each dimension\n",
        "print(\"The shape of the array a is : \",a.shape)\n",
        "print(\"The shape of the array b is : \",b.shape)"
      ],
      "metadata": {
        "colab": {
          "base_uri": "https://localhost:8080/"
        },
        "id": "jOMhBmtdAtXM",
        "outputId": "9dea1da2-9a5e-48be-9338-110baa75d6f3"
      },
      "execution_count": null,
      "outputs": [
        {
          "output_type": "stream",
          "name": "stdout",
          "text": [
            "The shape of the array a is :  (2, 3)\n",
            "The shape of the array b is :  (6,)\n"
          ]
        }
      ]
    },
    {
      "cell_type": "code",
      "source": [
        "len(a.shape) == a.ndim"
      ],
      "metadata": {
        "colab": {
          "base_uri": "https://localhost:8080/"
        },
        "id": "-S0zvU94VQBk",
        "outputId": "57abbdc6-d1e8-4ce6-ff11-db3d265f0bbe"
      },
      "execution_count": null,
      "outputs": [
        {
          "output_type": "execute_result",
          "data": {
            "text/plain": [
              "True"
            ]
          },
          "metadata": {},
          "execution_count": 22
        }
      ]
    },
    {
      "cell_type": "code",
      "source": [
        "# The fixed total number of element in the array is shown by size attribute\n",
        "a.size"
      ],
      "metadata": {
        "colab": {
          "base_uri": "https://localhost:8080/"
        },
        "id": "ELlptURcVpNF",
        "outputId": "f0431e3d-0580-43b2-a417-9bef4adb73a5"
      },
      "execution_count": null,
      "outputs": [
        {
          "output_type": "execute_result",
          "data": {
            "text/plain": [
              "6"
            ]
          },
          "metadata": {},
          "execution_count": 23
        }
      ]
    },
    {
      "cell_type": "code",
      "source": [
        "import math\n",
        "a.size == math.prod(a.shape)"
      ],
      "metadata": {
        "colab": {
          "base_uri": "https://localhost:8080/"
        },
        "id": "vM_PnSjSWwU6",
        "outputId": "a4a7d131-cd59-4980-dc99-ff5ecb4add38"
      },
      "execution_count": null,
      "outputs": [
        {
          "output_type": "execute_result",
          "data": {
            "text/plain": [
              "True"
            ]
          },
          "metadata": {},
          "execution_count": 25
        }
      ]
    },
    {
      "cell_type": "code",
      "source": [
        "# Array in numpy is homogeneous in nature. They can contain only the data of same data type.\n",
        "# The datatype of the array element is contained in dtype arrtribute.\n",
        "print(a.dtype)\n",
        "print(\"here int is for integer{number} and 64 is for 64bits of data\")"
      ],
      "metadata": {
        "colab": {
          "base_uri": "https://localhost:8080/"
        },
        "id": "gm0Jq3dwW6f2",
        "outputId": "42d35fba-1d1b-43bc-b2c9-7d81bad846e2"
      },
      "execution_count": null,
      "outputs": [
        {
          "output_type": "stream",
          "name": "stdout",
          "text": [
            "int64\n",
            "here int is for integer{number} and 64 is for 64bits of data\n"
          ]
        }
      ]
    },
    {
      "cell_type": "markdown",
      "source": [
        "# Creation of Basic Array"
      ],
      "metadata": {
        "id": "UrWpaJW8Y9Py"
      }
    },
    {
      "cell_type": "code",
      "source": [],
      "metadata": {
        "id": "GVIwQKdJYHkL"
      },
      "execution_count": null,
      "outputs": []
    },
    {
      "cell_type": "code",
      "source": [],
      "metadata": {
        "id": "7M5yPe4yZA6I"
      },
      "execution_count": null,
      "outputs": []
    }
  ]
}